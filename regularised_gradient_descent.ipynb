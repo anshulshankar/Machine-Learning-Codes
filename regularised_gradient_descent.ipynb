{
 "cells": [
  {
   "cell_type": "code",
   "execution_count": 6,
   "metadata": {},
   "outputs": [
    {
     "name": "stdout",
     "output_type": "stream",
     "text": [
      "/home/anshul/Desktop/workspace/Mtech/Soft_Computing\n"
     ]
    }
   ],
   "source": [
    "cd Soft_Computing/\n"
   ]
  },
  {
   "cell_type": "code",
   "execution_count": 2,
   "metadata": {},
   "outputs": [],
   "source": [
    "import numpy as np\n",
    "import pandas as pd\n",
    "from pandas import DataFrame, Series\n",
    "import matplotlib.pyplot as plt"
   ]
  },
  {
   "cell_type": "code",
   "execution_count": 7,
   "metadata": {},
   "outputs": [
    {
     "name": "stdout",
     "output_type": "stream",
     "text": [
      "[[ 1.          0.29912127  0.0369527  -0.41849422  0.22779382  0.66969107]\n",
      " [ 1.         -0.7190957  -1.03311593 -0.33802769 -1.15127264 -1.61164115]\n",
      " [ 1.         -1.70843065  0.02269827 -0.28862981 -0.92494454 -1.04921985]\n",
      " ...\n",
      " [ 1.          0.35420357  0.02640567  0.49933012  1.5156715   0.58852227]\n",
      " [ 1.          0.35417406  0.03811839  0.87769314  0.28663194  0.83921419]\n",
      " [ 1.          0.35415929  0.03748634 -0.42408176  0.2283755   0.66427238]]\n"
     ]
    },
    {
     "data": {
      "text/plain": [
       "<matplotlib.legend.Legend at 0x7f081bd20400>"
      ]
     },
     "execution_count": 7,
     "metadata": {},
     "output_type": "execute_result"
    },
    {
     "data": {
      "image/png": "[encoded data removed]",
      "text/plain": [
       "<Figure size 432x288 with 1 Axes>"
      ]
     },
     "metadata": {
      "needs_background": "light"
     },
     "output_type": "display_data"
    }
   ],
   "source": [
    "file = 'Housing_Price_data_set.csv'\n",
    "dataFrame = pd.read_csv(file)\n",
    "#array2d = nm.array(dataFrame)\n",
    "newDataFrame = DataFrame(dataFrame, columns = ['lotsize', 'bedrooms', 'bathrms', 'stories', 'garagepl'])\n",
    "\n",
    "#print(newDataFrame.shape)\n",
    "for i in range(0,5):\n",
    "    newDataFrame.iloc[:,i] = ( newDataFrame.iloc[:,i] - np.mean(newDataFrame.iloc[:,i]) ) / (np.std(newDataFrame, axis=1))\n",
    "#print(newDataFrame)\n",
    "dataArr = np.array(newDataFrame)\n",
    "x = np.insert(dataArr, 0, 1, axis = 1)\n",
    "target = DataFrame(dataFrame, columns = ['price'])\n",
    "y = np.array(target)\n",
    "[r, c] = x.shape\n",
    "theta = np.ones((c, 1))\n",
    "alpha = 0.001\n",
    "temp = np.zeros((c, 1))\n",
    "def cost_compute(features, values, theta,lamb):\n",
    "    m = len(values)\n",
    "    sum_of_sq = np.square(np.dot(features, theta) - values).sum()\n",
    "    cost = sum_of_sq / (2 * m)\n",
    "    temp =np.transpose(theta)\n",
    "    theta_sum = ( temp.dot(theta) ).sum() #squaring theta\n",
    "    cost = cost + ( lamb*(theta_sum))\n",
    "    return cost\n",
    "\n",
    "def gradient_descent(features, values, theta, alpha, num_itr,lamb):\n",
    "    m = len(values)\n",
    "    cost_history = []\n",
    "    for i in range(num_itr):\n",
    "        predicted_values = np.dot(features, theta)\n",
    "        #predicted_values.shape\n",
    "        theta = theta - (  np.dot(np.transpose(features), predicted_values - y) + 2*lamb*theta) *(alpha / m) \n",
    "        cost = cost_compute(features, values, theta,lamb)\n",
    "        cost_history.append(cost)\n",
    "    return theta, pd.Series(cost_history)\n",
    "  \n",
    "      \n",
    "\n",
    "[t1, ch1] = gradient_descent(x, y, theta, 0.05, 600, 0.05)\n",
    "[t2, ch2] = gradient_descent(x, y, theta, 0.01, 500,0.05)\n",
    "plt.plot(ch1, label = 'alpha1')\n",
    "plt.plot(ch2, label = 'alpha2')\n",
    "plt.xlabel('Iterations')\n",
    "plt.ylabel('Costs')\n",
    "plt.legend()\n",
    "\n"
   ]
  },
  {
   "cell_type": "code",
   "execution_count": null,
   "metadata": {},
   "outputs": [],
   "source": []
  },
  {
   "cell_type": "code",
   "execution_count": null,
   "metadata": {},
   "outputs": [],
   "source": []
  }
 ],
 "metadata": {
  "kernelspec": {
   "display_name": "Python 3",
   "language": "python",
   "name": "python3"
  },
  "language_info": {
   "codemirror_mode": {
    "name": "ipython",
    "version": 3
   },
   "file_extension": ".py",
   "mimetype": "text/x-python",
   "name": "python",
   "nbconvert_exporter": "python",
   "pygments_lexer": "ipython3",
   "version": "3.7.1"
  }
 },
 "nbformat": 4,
 "nbformat_minor": 2
}
