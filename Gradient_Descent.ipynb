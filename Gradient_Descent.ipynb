{
 "cells": [
  {
   "cell_type": "code",
   "execution_count": 4,
   "metadata": {},
   "outputs": [],
   "source": [
    "import numpy as np\n",
    "import pandas as pd\n",
    "from pandas import DataFrame\n",
    "import matplotlib.pyplot as plt\n",
    "\n",
    "file = 'Housing_Price_data_set.csv'\n",
    "dataFrame = pd.read_csv(file)\n",
    "#array2d = nm.array(dataFrame)\n",
    "newDataFrame = DataFrame(dataFrame, columns = ['lotsize', 'bedrooms', 'bathrms', 'stories', 'garagepl'])\n",
    "dataArr = np.array(newDataFrame)\n",
    "\n",
    "x = np.insert(dataArr, 0, 1, axis = 1)\n",
    "target = DataFrame(dataFrame, columns = ['price'])\n",
    "y = np.array(target)\n",
    "[r, c] = x.shape\n",
    "theta = np.ones((c, 1))\n",
    "alpha = 0.001\n",
    "temp = np.zeros((c, 1))\n",
    "\n",
    "def cost_compute(features, values, theta):\n",
    "    m = len(values)\n",
    "    sum_of_sq = np.square(np.dot(features, theta) - values).sum()\n",
    "    #sum_of_sq = np.dot((np.dot(features, theta) - values), (np.dot(features, theta) - values)).sum()    \n",
    "    cost = sum_of_sq / (2 * m)\n",
    "    #print(cost)\n",
    "    return cost\n",
    "\n",
    "def gradient_descent(features, values, theta, alpha, num_itr):\n",
    "    m = len(values)\n",
    "    cost_history = []\n",
    "    for i in range(num_itr):\n",
    "        predicted_values = np.dot(features, theta)\n",
    "        #predicted_values.shape\n",
    "        theta = theta - (alpha / m) * np.dot(np.transpose(features), predicted_values - y)\n",
    "        cost = cost_compute(features, values, theta)\n",
    "        cost_history.append(cost)\n",
    "    return theta, pd.Series(cost_history)"
   ]
  },
  {
   "cell_type": "code",
   "execution_count": 5,
   "metadata": {},
   "outputs": [
    {
     "name": "stderr",
     "output_type": "stream",
     "text": [
      "/home/anshul/anaconda3/lib/python3.7/site-packages/numpy/core/_methods.py:36: RuntimeWarning: overflow encountered in reduce\n",
      "  return umr_sum(a, axis, dtype, out, keepdims, initial)\n",
      "/home/anshul/anaconda3/lib/python3.7/site-packages/ipykernel_launcher.py:30: RuntimeWarning: overflow encountered in square\n"
     ]
    },
    {
     "data": {
      "text/plain": [
       "[<matplotlib.lines.Line2D at 0x7f4c36d4c6a0>]"
      ]
     },
     "execution_count": 5,
     "metadata": {},
     "output_type": "execute_result"
    },
    {
     "data": {
      "image/png": "[encoded data removed]",
      "text/plain": [
       "<Figure size 432x288 with 1 Axes>"
      ]
     },
     "metadata": {
      "needs_background": "light"
     },
     "output_type": "display_data"
    }
   ],
   "source": [
    "[th, c] = gradient_descent(x, y, theta, alpha, 200)\n",
    "plt.plot(c)"
   ]
  },
  {
   "cell_type": "code",
   "execution_count": null,
   "metadata": {},
   "outputs": [],
   "source": []
  }
 ],
 "metadata": {
  "kernelspec": {
   "display_name": "Python 3",
   "language": "python",
   "name": "python3"
  },
  "language_info": {
   "codemirror_mode": {
    "name": "ipython",
    "version": 3
   },
   "file_extension": ".py",
   "mimetype": "text/x-python",
   "name": "python",
   "nbconvert_exporter": "python",
   "pygments_lexer": "ipython3",
   "version": "3.7.1"
  }
 },
 "nbformat": 4,
 "nbformat_minor": 2
}
